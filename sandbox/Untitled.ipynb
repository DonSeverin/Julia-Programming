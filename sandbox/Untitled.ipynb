{
 "cells": [
  {
   "cell_type": "markdown",
   "id": "25698339-e0ee-42c6-8cc9-04764f8c73aa",
   "metadata": {},
   "source": [
    "# Julia Training Sanbox"
   ]
  },
  {
   "cell_type": "code",
   "execution_count": 60,
   "id": "c9396349-1357-4a59-9e03-9c80125d83b9",
   "metadata": {},
   "outputs": [
    {
     "data": {
      "text/plain": [
       "true"
      ]
     },
     "execution_count": 60,
     "metadata": {},
     "output_type": "execute_result"
    }
   ],
   "source": []
  },
  {
   "cell_type": "code",
   "execution_count": null,
   "id": "64febc43-ce2a-4d3d-9caf-d80eca51895e",
   "metadata": {},
   "outputs": [],
   "source": []
  }
 ],
 "metadata": {
  "kernelspec": {
   "display_name": "Julia 1.9.3",
   "language": "julia",
   "name": "julia-1.9"
  },
  "language_info": {
   "file_extension": ".jl",
   "mimetype": "application/julia",
   "name": "julia",
   "version": "1.9.3"
  }
 },
 "nbformat": 4,
 "nbformat_minor": 5
}
