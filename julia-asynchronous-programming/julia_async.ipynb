{
 "cells": [
  {
   "cell_type": "markdown",
   "id": "f64b009a",
   "metadata": {},
   "source": [
    "<img src=\"https://upload.wikimedia.org/wikipedia/commons/thumb/3/39/VU_logo.png/800px-VU_logo.png?20161029201021\" width=\"350\">\n",
    "\n",
    "### Programming large-scale parallel systems\n",
    "\n",
    "\n",
    "# Asynchronous programming in Julia\n"
   ]
  },
  {
   "cell_type": "markdown",
   "id": "bf68ad38",
   "metadata": {},
   "source": [
    "## Contents\n",
    "\n",
    "In this notebook, we will learn the basics of asynchronous programming in Julia. In particular, we will learn about:\n",
    "\n",
    "- Tasks\n",
    "- Channels\n",
    "\n",
    "Understanding these concepts is important to learn distributed computing later."
   ]
  },
  {
   "cell_type": "markdown",
   "id": "caf64254",
   "metadata": {},
   "source": [
    "## Tasks\n",
    "\n",
    "### Creating  a task\n",
    "\n",
    "Technically, a task in Julia is a *symmetric co-routine*. More informally, a task is a piece of computation work that can be started (scheduled) at some point in the future, and that can be interrupted and resumed.  To create a task, we first need to create a function that represents the work to be done in the task. In next cell, we generate a task that generates and sums two matrices."
   ]
  },
  {
   "cell_type": "code",
   "execution_count": 1,
   "id": "fe668cb1",
   "metadata": {},
   "outputs": [
    {
     "data": {
      "text/plain": [
       "work (generic function with 1 method)"
      ]
     },
     "execution_count": 1,
     "metadata": {},
     "output_type": "execute_result"
    }
   ],
   "source": [
    "function work()\n",
    "    println(\"Starting work\")\n",
    "    sleep(7)\n",
    "    a = rand(3,3)\n",
    "    b = rand(3,3)\n",
    "    r = a + b\n",
    "    println(\"Finishing work\")\n",
    "    r\n",
    "end"
   ]
  },
  {
   "cell_type": "code",
   "execution_count": 3,
   "id": "67ee0328",
   "metadata": {},
   "outputs": [
    {
     "data": {
      "text/plain": [
       "Task (runnable) @0x00007fa4a4920e20"
      ]
     },
     "execution_count": 3,
     "metadata": {},
     "output_type": "execute_result"
    }
   ],
   "source": [
    "t = Task(work)"
   ]
  },
  {
   "cell_type": "markdown",
   "id": "e459c5c2",
   "metadata": {},
   "source": [
    "### Scheduling a task\n",
    "\n",
    "The task has been created, but the corresponding work has not started. Note that we do not see any output from function `work` yet. To run the task we need to schedule it."
   ]
  },
  {
   "cell_type": "code",
   "execution_count": 4,
   "id": "8778c199",
   "metadata": {},
   "outputs": [
    {
     "name": "stdout",
     "output_type": "stream",
     "text": [
      "Starting work\n"
     ]
    },
    {
     "data": {
      "text/plain": [
       "Task (runnable) @0x00007fa4a4920e20"
      ]
     },
     "execution_count": 4,
     "metadata": {},
     "output_type": "execute_result"
    },
    {
     "name": "stdout",
     "output_type": "stream",
     "text": [
      "Finishing work\n"
     ]
    }
   ],
   "source": [
    "schedule(t)"
   ]
  },
  {
   "cell_type": "markdown",
   "id": "f1fb9283",
   "metadata": {},
   "source": [
    "### Fetching the task result\n",
    "\n",
    "The task has been executed, but we do not see the result. To get the result we need to fetch it."
   ]
  },
  {
   "cell_type": "code",
   "execution_count": 5,
   "id": "0c7b626e",
   "metadata": {},
   "outputs": [
    {
     "data": {
      "text/plain": [
       "3×3 Matrix{Float64}:\n",
       " 1.07685   0.878607  0.376988\n",
       " 0.942935  0.620054  0.684954\n",
       " 1.33316   0.459834  1.0648"
      ]
     },
     "execution_count": 5,
     "metadata": {},
     "output_type": "execute_result"
    }
   ],
   "source": [
    "fetch(t)"
   ]
  },
  {
   "cell_type": "markdown",
   "id": "fedbbd71",
   "metadata": {},
   "source": [
    "### Tasks run asynchronously\n",
    "\n",
    "It is important to note that tasks run asynchronously. To illustrate this let's create and schedule a new task."
   ]
  },
  {
   "cell_type": "code",
   "execution_count": 8,
   "id": "4ccc996c",
   "metadata": {},
   "outputs": [
    {
     "data": {
      "text/plain": [
       "Task (runnable) @0x00007fa4a548dc30"
      ]
     },
     "execution_count": 8,
     "metadata": {},
     "output_type": "execute_result"
    }
   ],
   "source": [
    "t = Task(work)"
   ]
  },
  {
   "cell_type": "code",
   "execution_count": 9,
   "id": "015bea27",
   "metadata": {},
   "outputs": [
    {
     "name": "stdout",
     "output_type": "stream",
     "text": [
      "Starting work\n"
     ]
    },
    {
     "data": {
      "text/plain": [
       "Task (runnable) @0x00007fa4a548dc30"
      ]
     },
     "execution_count": 9,
     "metadata": {},
     "output_type": "execute_result"
    }
   ],
   "source": [
    "schedule(t)"
   ]
  },
  {
   "cell_type": "markdown",
   "id": "5ec0718e",
   "metadata": {},
   "source": [
    "Note that while the task is running we can execute Julia code. To check this, execute the next two cells while the task is running."
   ]
  },
  {
   "cell_type": "code",
   "execution_count": 57,
   "id": "a70fcbe8",
   "metadata": {},
   "outputs": [
    {
     "data": {
      "text/plain": [
       "-4.4324249909859736e-16"
      ]
     },
     "execution_count": 57,
     "metadata": {},
     "output_type": "execute_result"
    }
   ],
   "source": [
    "sin(4π)*exp(-0.1)\n"
   ]
  },
  {
   "cell_type": "code",
   "execution_count": 58,
   "id": "6def444b",
   "metadata": {},
   "outputs": [
    {
     "data": {
      "text/plain": [
       "2"
      ]
     },
     "execution_count": 58,
     "metadata": {},
     "output_type": "execute_result"
    }
   ],
   "source": [
    "1 + 1"
   ]
  },
  {
   "cell_type": "markdown",
   "id": "d483d4d0",
   "metadata": {},
   "source": [
    "How is this possible? Tasks run in the background and this particular task is sleeping for most of the time. Thus, it is possible to use the current Julia process for other operations while the task is sleeping."
   ]
  },
  {
   "cell_type": "markdown",
   "id": "910323fd",
   "metadata": {},
   "source": [
    "### Tasks do not run in parallel\n",
    "\n",
    "It is also important to note that tasks do not run in parallel. We were able to run code while previous tasks was running because the task was idling most of the time in the sleep function.  If the task does actual work, the current process will be busy running this task and preventing to run other tasks. Let's illustrate this with an example. The following code computes an approximation of $\\pi$ using [Leibniz formula](https://en.wikipedia.org/wiki/Leibniz_formula_for_pi). The quality of the approximation increases with the value of `n`."
   ]
  },
  {
   "cell_type": "code",
   "execution_count": 5,
   "id": "b53ac640",
   "metadata": {},
   "outputs": [
    {
     "data": {
      "text/plain": [
       "compute_π (generic function with 1 method)"
      ]
     },
     "execution_count": 5,
     "metadata": {},
     "output_type": "execute_result"
    }
   ],
   "source": [
    "function compute_π(n)\n",
    "    s = 1.0\n",
    "    for i in 1:n\n",
    "        s += (isodd(i) ? -1 : 1) / (i*2+1)\n",
    "    end\n",
    "    4*s\n",
    "end"
   ]
  },
  {
   "cell_type": "markdown",
   "id": "7614df94",
   "metadata": {},
   "source": [
    " Call this function with a large number. Note that it will take some time."
   ]
  },
  {
   "cell_type": "code",
   "execution_count": 60,
   "id": "63f2aec3",
   "metadata": {},
   "outputs": [
    {
     "data": {
      "text/plain": [
       "3.1415926538379395"
      ]
     },
     "execution_count": 60,
     "metadata": {},
     "output_type": "execute_result"
    }
   ],
   "source": [
    "compute_π(4_000_000_000)"
   ]
  },
  {
   "cell_type": "markdown",
   "id": "840ff590",
   "metadata": {},
   "source": [
    "Create a task that performs this computation."
   ]
  },
  {
   "cell_type": "code",
   "execution_count": 61,
   "id": "f16ade6c",
   "metadata": {},
   "outputs": [
    {
     "data": {
      "text/plain": [
       "Task (runnable) @0x00007fa4a48e52d0"
      ]
     },
     "execution_count": 61,
     "metadata": {},
     "output_type": "execute_result"
    }
   ],
   "source": [
    "fun = () -> compute_π(4_000_000_000)\n",
    "t = Task(fun)"
   ]
  },
  {
   "cell_type": "markdown",
   "id": "60c2567c",
   "metadata": {},
   "source": [
    "Schedule the tasks and then try to execute the 2nd cell bellow. Note that the current process will be busy running the task."
   ]
  },
  {
   "cell_type": "code",
   "execution_count": 62,
   "id": "1f28a388",
   "metadata": {},
   "outputs": [
    {
     "data": {
      "text/plain": [
       "Task (done) @0x00007fa4a48e52d0"
      ]
     },
     "execution_count": 62,
     "metadata": {},
     "output_type": "execute_result"
    }
   ],
   "source": [
    "schedule(t)"
   ]
  },
  {
   "cell_type": "code",
   "execution_count": 63,
   "id": "52e060e7",
   "metadata": {},
   "outputs": [
    {
     "data": {
      "text/plain": [
       "2"
      ]
     },
     "execution_count": 63,
     "metadata": {},
     "output_type": "execute_result"
    }
   ],
   "source": [
    "1+1"
   ]
  },
  {
   "cell_type": "markdown",
   "id": "a700fe69",
   "metadata": {},
   "source": [
    "### `yield`\n",
    "\n",
    "If tasks do not run in parallel, what is the purpose of tasks? Tasks are handy since they can be interrupted and to switch control to other tasks. This is achieved via function `yield`. When we call yield, we provide the opportunity to switch to another task. The function below is a variation of function `compute_π` in which we yield every 1000 iterations. At the call to yield we allow other tasks to take over. Without this call to yield, once we start function `compute_π` we cannot start any other tasks until this function finishes."
   ]
  },
  {
   "cell_type": "code",
   "execution_count": 27,
   "id": "9260c065",
   "metadata": {},
   "outputs": [
    {
     "data": {
      "text/plain": [
       "compute_π_yield (generic function with 1 method)"
      ]
     },
     "execution_count": 27,
     "metadata": {},
     "output_type": "execute_result"
    }
   ],
   "source": [
    "function compute_π_yield(n)\n",
    "    s = 1.0\n",
    "    for i in 1:n\n",
    "        s += (isodd(i) ? -1 : 1) / (i*2+1)\n",
    "        if mod(i,1000) == 0\n",
    "            yield()\n",
    "        end\n",
    "    end\n",
    "    4*s\n",
    "end"
   ]
  },
  {
   "cell_type": "markdown",
   "id": "69fd4131",
   "metadata": {},
   "source": [
    "You can check this behavior experimentally with the two following cells. The next one creates and schedules a task that computes pi with the function `compute_π_yield`. Note that you can run the 2nd cell bellow while this task is running since we call to yield often inside  `compute_π_yield`."
   ]
  },
  {
   "cell_type": "code",
   "execution_count": 28,
   "id": "a85f3f39",
   "metadata": {},
   "outputs": [
    {
     "data": {
      "text/plain": [
       "Task (runnable) @0x00007fa4a559c330"
      ]
     },
     "execution_count": 28,
     "metadata": {},
     "output_type": "execute_result"
    }
   ],
   "source": [
    "fun = () -> compute_π_yield(3_000_000_000)\n",
    "t = Task(fun)\n",
    "schedule(t)"
   ]
  },
  {
   "cell_type": "code",
   "execution_count": 29,
   "id": "24e23e88",
   "metadata": {},
   "outputs": [
    {
     "data": {
      "text/plain": [
       "2"
      ]
     },
     "execution_count": 29,
     "metadata": {},
     "output_type": "execute_result"
    }
   ],
   "source": [
    "1+1"
   ]
  },
  {
   "cell_type": "markdown",
   "id": "66ca10d6",
   "metadata": {},
   "source": [
    "### Example: Implementing function sleep\n",
    "\n",
    "Using yield, we can implement our own version of the sleep function as follows:"
   ]
  },
  {
   "cell_type": "code",
   "execution_count": 37,
   "id": "beed2b29",
   "metadata": {},
   "outputs": [
    {
     "data": {
      "text/plain": [
       "mysleep (generic function with 1 method)"
      ]
     },
     "execution_count": 37,
     "metadata": {},
     "output_type": "execute_result"
    }
   ],
   "source": [
    "function mysleep(secs)\n",
    "    final_time = time() + secs\n",
    "    while time() < final_time\n",
    "        yield()\n",
    "    end\n",
    "    nothing\n",
    "end"
   ]
  },
  {
   "cell_type": "markdown",
   "id": "5c44f6c1",
   "metadata": {},
   "source": [
    "You can check that it behaves as expected."
   ]
  },
  {
   "cell_type": "code",
   "execution_count": 38,
   "id": "73c13bfb",
   "metadata": {},
   "outputs": [
    {
     "name": "stdout",
     "output_type": "stream",
     "text": [
      " 10.000001 seconds (209 allocations: 5.797 KiB)\n"
     ]
    }
   ],
   "source": [
    "@time mysleep(10)"
   ]
  },
  {
   "cell_type": "markdown",
   "id": "25048665",
   "metadata": {},
   "source": [
    "### Tasks take a function with no arguments\n",
    "\n",
    "This function needs to have zero arguments, but it can capture variables if needed. If we try to create a task with a function that has arguments, it will result in an error when we schedule it."
   ]
  },
  {
   "cell_type": "code",
   "execution_count": 39,
   "id": "87397749",
   "metadata": {},
   "outputs": [
    {
     "data": {
      "text/plain": [
       "add (generic function with 1 method)"
      ]
     },
     "execution_count": 39,
     "metadata": {},
     "output_type": "execute_result"
    }
   ],
   "source": [
    "add(a,b) = a + b"
   ]
  },
  {
   "cell_type": "code",
   "execution_count": 40,
   "id": "e99766c7",
   "metadata": {},
   "outputs": [
    {
     "data": {
      "text/plain": [
       "Task (runnable) @0x00007fa4a48e60e0"
      ]
     },
     "execution_count": 40,
     "metadata": {},
     "output_type": "execute_result"
    }
   ],
   "source": [
    "t = Task(add)"
   ]
  },
  {
   "cell_type": "code",
   "execution_count": 41,
   "id": "1a785bae",
   "metadata": {},
   "outputs": [
    {
     "data": {
      "text/plain": [
       "Task (failed) @0x00007fa4a48e60e0\n",
       "MethodError: no method matching add()\n",
       "\n",
       "\u001b[0mClosest candidates are:\n",
       "\u001b[0m  add(\u001b[91m::Any\u001b[39m, \u001b[91m::Any\u001b[39m)\n",
       "\u001b[0m\u001b[90m   @\u001b[39m \u001b[35mMain\u001b[39m \u001b[90m\u001b[4mIn[39]:1\u001b[24m\u001b[39m\n"
      ]
     },
     "execution_count": 41,
     "metadata": {},
     "output_type": "execute_result"
    }
   ],
   "source": [
    "schedule(t)"
   ]
  },
  {
   "cell_type": "markdown",
   "id": "ebfce725",
   "metadata": {},
   "source": [
    "If we need, we can capture variables in the function to be run by the task as shown in the next cells."
   ]
  },
  {
   "cell_type": "code",
   "execution_count": 42,
   "id": "06f54fa0",
   "metadata": {},
   "outputs": [],
   "source": [
    "a = rand(3,3)\n",
    "b = rand(3,3);"
   ]
  },
  {
   "cell_type": "code",
   "execution_count": 43,
   "id": "4c9e586e",
   "metadata": {},
   "outputs": [
    {
     "data": {
      "text/plain": [
       "Task (done) @0x00007fa4a47c3080"
      ]
     },
     "execution_count": 43,
     "metadata": {},
     "output_type": "execute_result"
    }
   ],
   "source": [
    "fun = () -> a + b\n",
    "t = Task(fun)\n",
    "schedule(t)"
   ]
  },
  {
   "cell_type": "markdown",
   "id": "cd829a64",
   "metadata": {},
   "source": [
    "### Useful macro: `@async`\n",
    "\n",
    "So far, we have created tasks using low-level functions, but there are more convenient ways of creating and scheduling tasks. For instance using the `@async` macro. This macro is used to run a piece of code asynchronously. Under the hood it puts the code in an anonymous function, creates a task, and schedules it. For instance, the next cell is equivalent to the previous one."
   ]
  },
  {
   "cell_type": "code",
   "execution_count": 44,
   "id": "9b5152d1",
   "metadata": {},
   "outputs": [
    {
     "data": {
      "text/plain": [
       "Task (done) @0x00007fa4a47c3b70"
      ]
     },
     "execution_count": 44,
     "metadata": {},
     "output_type": "execute_result"
    }
   ],
   "source": [
    "@async a + b"
   ]
  },
  {
   "cell_type": "markdown",
   "id": "ac3262d8",
   "metadata": {},
   "source": [
    "### Another useful macro: `@sync`\n",
    "\n",
    "This macro is used to wait for all the tasks created with `@async` in a given block of code. "
   ]
  },
  {
   "cell_type": "code",
   "execution_count": 46,
   "id": "ef2e49f9",
   "metadata": {},
   "outputs": [
    {
     "data": {
      "text/plain": [
       "Task (done) @0x00007fa4a48241a0"
      ]
     },
     "execution_count": 46,
     "metadata": {},
     "output_type": "execute_result"
    }
   ],
   "source": [
    "@sync begin\n",
    "    @async sleep(3)\n",
    "    @async sleep(4)\n",
    "end"
   ]
  },
  {
   "cell_type": "markdown",
   "id": "98f0d685",
   "metadata": {},
   "source": [
    "## Channels\n",
    "\n",
    "### Sending data between tasks\n",
    "\n",
    "Julia provides channels as a way to send data between tasks. A channel is like a FIFO queue which tasks can put values into and take values from. In the next example, we create a channel and a task that puts five values into the channel. Finally, the task closes the channel."
   ]
  },
  {
   "cell_type": "code",
   "execution_count": 47,
   "id": "b88d5308",
   "metadata": {},
   "outputs": [
    {
     "data": {
      "text/plain": [
       "Channel{Int64}(0) (empty)"
      ]
     },
     "execution_count": 47,
     "metadata": {},
     "output_type": "execute_result"
    }
   ],
   "source": [
    "chnl = Channel{Int}()"
   ]
  },
  {
   "cell_type": "code",
   "execution_count": 64,
   "id": "3421c7a6",
   "metadata": {
    "scrolled": true
   },
   "outputs": [
    {
     "data": {
      "text/plain": [
       "Task (runnable) @0x00007fa4a48e7530"
      ]
     },
     "execution_count": 64,
     "metadata": {},
     "output_type": "execute_result"
    }
   ],
   "source": [
    "@async begin\n",
    "    for i in 1:5\n",
    "        put!(chnl,i)\n",
    "    end\n",
    "    close(chnl)\n",
    "end"
   ]
  },
  {
   "cell_type": "markdown",
   "id": "1df0508c",
   "metadata": {},
   "source": [
    "By executing next cell several times, we will get the values from the channel. We are indeed communicating values from two different tasks. If we execute the cell more than 5 times, it will raise an error since the channel is closed. "
   ]
  },
  {
   "cell_type": "code",
   "execution_count": 65,
   "id": "64b9436e",
   "metadata": {},
   "outputs": [
    {
     "data": {
      "text/plain": [
       "1"
      ]
     },
     "execution_count": 65,
     "metadata": {},
     "output_type": "execute_result"
    }
   ],
   "source": [
    "take!(chnl)"
   ]
  },
  {
   "cell_type": "markdown",
   "id": "757a1b07",
   "metadata": {},
   "source": [
    "### Channels are iterable\n",
    "\n",
    "Instead of taking values from a channel until an error occurs, we can also iterate over the channel in a for loop until the channel is closed."
   ]
  },
  {
   "cell_type": "code",
   "execution_count": 66,
   "id": "2fc22dfa",
   "metadata": {},
   "outputs": [
    {
     "data": {
      "text/plain": [
       "Channel{Int64}(0) (empty)"
      ]
     },
     "execution_count": 66,
     "metadata": {},
     "output_type": "execute_result"
    }
   ],
   "source": [
    "chnl = Channel{Int}()"
   ]
  },
  {
   "cell_type": "code",
   "execution_count": 67,
   "id": "fa62a4df",
   "metadata": {},
   "outputs": [
    {
     "data": {
      "text/plain": [
       "Task (runnable) @0x00007fa4a49004c0"
      ]
     },
     "execution_count": 67,
     "metadata": {},
     "output_type": "execute_result"
    }
   ],
   "source": [
    "@async begin\n",
    "    for i in 1:5\n",
    "        put!(chnl,i)\n",
    "    end\n",
    "    close(chnl)\n",
    "end"
   ]
  },
  {
   "cell_type": "code",
   "execution_count": 68,
   "id": "e511e19b",
   "metadata": {},
   "outputs": [
    {
     "name": "stdout",
     "output_type": "stream",
     "text": [
      "i = 1\n",
      "i = 2\n",
      "i = 3\n",
      "i = 4\n",
      "i = 5\n"
     ]
    }
   ],
   "source": [
    "for i in chnl\n",
    "    @show i\n",
    "end"
   ]
  },
  {
   "cell_type": "markdown",
   "id": "b1a2a557",
   "metadata": {},
   "source": [
    "### Calls to `put!` and `take!` are blocking\n",
    "\n",
    "Note that `put!` and `take!` are blocking operations. Calling `put!` blocks the tasks until another task calls `take!` and viceversa. Thus, we need at least 2 tasks for this to work. If we call `put!` and `take!` from the same task, it will result in a dead lock.  We have added a print statement to the previous example. Run it again and note how `put!` blocks until we call `take!`.  "
   ]
  },
  {
   "cell_type": "code",
   "execution_count": 89,
   "id": "f34373ca",
   "metadata": {},
   "outputs": [
    {
     "data": {
      "text/plain": [
       "Channel{Int64}(0) (empty)"
      ]
     },
     "execution_count": 89,
     "metadata": {},
     "output_type": "execute_result"
    }
   ],
   "source": [
    "chnl = Channel{Int}()"
   ]
  },
  {
   "cell_type": "code",
   "execution_count": 90,
   "id": "bfde2ecd",
   "metadata": {},
   "outputs": [
    {
     "data": {
      "text/plain": [
       "Task (runnable) @0x00007fa4a50d0330"
      ]
     },
     "execution_count": 90,
     "metadata": {},
     "output_type": "execute_result"
    }
   ],
   "source": [
    "@async begin\n",
    "    for i in 1:5\n",
    "        put!(chnl,i)\n",
    "        println(\"I have put $i\")\n",
    "    end\n",
    "    close(chnl)\n",
    "end"
   ]
  },
  {
   "cell_type": "code",
   "execution_count": 91,
   "id": "5830659d",
   "metadata": {},
   "outputs": [
    {
     "name": "stdout",
     "output_type": "stream",
     "text": [
      "I have put 1\n"
     ]
    },
    {
     "data": {
      "text/plain": [
       "1"
      ]
     },
     "execution_count": 91,
     "metadata": {},
     "output_type": "execute_result"
    }
   ],
   "source": [
    "take!(chnl)"
   ]
  },
  {
   "cell_type": "markdown",
   "id": "006140bd",
   "metadata": {},
   "source": [
    "### Buffered channels\n",
    "\n",
    "We can be a bit more flexible and use a buffered channel. In this case, `put!` will block only if the channel is full and `take!` will block if the channel is empty. We repeat the previous example, but with a buffered channel of size 2. Note that we can call `put!` until the channel is full. At this point, we need to wait to until we call `take!` which removes an item from the channel, making room for a new item."
   ]
  },
  {
   "cell_type": "code",
   "execution_count": 1,
   "id": "dfe06b5f",
   "metadata": {},
   "outputs": [
    {
     "data": {
      "text/plain": [
       "Channel{Int64}(2) (empty)"
      ]
     },
     "execution_count": 1,
     "metadata": {},
     "output_type": "execute_result"
    }
   ],
   "source": [
    "buffer_size = 2\n",
    "chnl = Channel{Int}(buffer_size)"
   ]
  },
  {
   "cell_type": "code",
   "execution_count": 2,
   "id": "6289bc2e",
   "metadata": {},
   "outputs": [
    {
     "name": "stdout",
     "output_type": "stream",
     "text": [
      "I have put 1\n"
     ]
    },
    {
     "data": {
      "text/plain": [
       "Task (runnable) @0x00007f23a75636c0"
      ]
     },
     "execution_count": 2,
     "metadata": {},
     "output_type": "execute_result"
    },
    {
     "name": "stdout",
     "output_type": "stream",
     "text": [
      "I have put 2\n"
     ]
    }
   ],
   "source": [
    "@async begin\n",
    "    for i in 1:5\n",
    "        put!(chnl,i)\n",
    "        println(\"I have put $i\")\n",
    "    end\n",
    "    close(chnl)\n",
    "end"
   ]
  },
  {
   "cell_type": "code",
   "execution_count": 3,
   "id": "2a87cd5f",
   "metadata": {},
   "outputs": [
    {
     "name": "stdout",
     "output_type": "stream",
     "text": [
      "I have put 3\n"
     ]
    },
    {
     "data": {
      "text/plain": [
       "1"
      ]
     },
     "execution_count": 3,
     "metadata": {},
     "output_type": "execute_result"
    }
   ],
   "source": [
    "take!(chnl)"
   ]
  },
  {
   "cell_type": "markdown",
   "id": "9ddd66ca",
   "metadata": {},
   "source": [
    "## Questions\n",
    "\n",
    "In the next questions, `t` is the value of the variable `t` defined in the next cell."
   ]
  },
  {
   "cell_type": "code",
   "execution_count": 6,
   "id": "dd45ae08",
   "metadata": {},
   "outputs": [
    {
     "data": {
      "text/plain": [
       "0.088960304"
      ]
     },
     "execution_count": 6,
     "metadata": {},
     "output_type": "execute_result"
    }
   ],
   "source": [
    "t = @elapsed compute_π(100_000_000)"
   ]
  },
  {
   "cell_type": "markdown",
   "id": "2a23b1c3",
   "metadata": {},
   "source": [
    "<div class=\"alert alert-block alert-success\">\n",
    "<b>Question (NB2-Q1):</b>  How long will the compute time of next cell be? \n",
    "</div>\n",
    "\n",
    "    a) 10*t\n",
    "    b) t\n",
    "    c) 0.1*t\n",
    "    d) near 0*t \n"
   ]
  },
  {
   "cell_type": "code",
   "execution_count": 7,
   "id": "18d6cfe3",
   "metadata": {},
   "outputs": [
    {
     "name": "stdout",
     "output_type": "stream",
     "text": [
      "  0.855730 seconds\n"
     ]
    }
   ],
   "source": [
    "@time for i in 1:10\n",
    "    compute_π(100_000_000)\n",
    "end"
   ]
  },
  {
   "cell_type": "markdown",
   "id": "5f19d38c",
   "metadata": {},
   "source": [
    "<div class=\"alert alert-block alert-success\">\n",
    "<b>Question (NB2-Q2):</b>  How long will the compute time of next cell be? \n",
    "</div>\n",
    "\n",
    "    a) 10*t\n",
    "    b) t\n",
    "    c) 0.1*t\n",
    "    d) near 0*t \n",
    "\n"
   ]
  },
  {
   "cell_type": "code",
   "execution_count": 9,
   "id": "dac0c92a",
   "metadata": {},
   "outputs": [
    {
     "name": "stdout",
     "output_type": "stream",
     "text": [
      "  0.000125 seconds (78 allocations: 6.727 KiB)\n"
     ]
    }
   ],
   "source": [
    "@time for i in 1:10\n",
    "    @async compute_π(100_000_000)\n",
    "end"
   ]
  },
  {
   "cell_type": "markdown",
   "id": "5041c355",
   "metadata": {},
   "source": [
    "<div class=\"alert alert-block alert-success\">\n",
    "<b>Question (NB2-Q3):</b>  How long will the compute time of next cell be? \n",
    "</div>\n",
    "\n",
    "    a) 10*t\n",
    "    b) t\n",
    "    c) 0.1*t\n",
    "    d) near 0*t \n"
   ]
  },
  {
   "cell_type": "code",
   "execution_count": 10,
   "id": "c06dc4a5",
   "metadata": {},
   "outputs": [
    {
     "name": "stdout",
     "output_type": "stream",
     "text": [
      "  0.886323 seconds (3.44 k allocations: 225.790 KiB, 2.56% compilation time)\n"
     ]
    }
   ],
   "source": [
    "@time @sync for i in 1:10\n",
    "    @async compute_π(100_000_000)\n",
    "end"
   ]
  },
  {
   "cell_type": "markdown",
   "id": "841b690e",
   "metadata": {},
   "source": [
    "<div class=\"alert alert-block alert-success\">\n",
    "<b>Question (NB2-Q4):</b>  How long will the compute time of the 2nd cell be? \n",
    "</div>\n",
    "\n",
    "    a) infinity\n",
    "    b) 1 second\n",
    "    c) near 0 seconds\n",
    "    d) 3 seconds"
   ]
  },
  {
   "cell_type": "code",
   "execution_count": 11,
   "id": "6ac116bb",
   "metadata": {},
   "outputs": [
    {
     "data": {
      "text/plain": [
       "Channel{Int64}(4) (empty)"
      ]
     },
     "execution_count": 11,
     "metadata": {},
     "output_type": "execute_result"
    }
   ],
   "source": [
    "buffer_size = 4\n",
    "chnl = Channel{Int}(buffer_size)"
   ]
  },
  {
   "cell_type": "code",
   "execution_count": 12,
   "id": "25363a90",
   "metadata": {},
   "outputs": [
    {
     "name": "stdout",
     "output_type": "stream",
     "text": [
      "  3.000999 seconds (99 allocations: 2.750 KiB)\n"
     ]
    }
   ],
   "source": [
    "@time begin\n",
    "    put!(chnl,3)\n",
    "    i = take!(chnl)\n",
    "    sleep(i)\n",
    "end"
   ]
  },
  {
   "cell_type": "markdown",
   "id": "df663f11",
   "metadata": {},
   "source": [
    "<div class=\"alert alert-block alert-success\">\n",
    "<b>Question (NB2-Q5):</b>  How long will the compute time of the 2nd cell be? \n",
    "</div>\n",
    "\n",
    "    a) infinity\n",
    "    b) 1 second\n",
    "    c) near 0 seconds\n",
    "    d) 3 seconds"
   ]
  },
  {
   "cell_type": "code",
   "execution_count": 13,
   "id": "9abeed40",
   "metadata": {},
   "outputs": [
    {
     "data": {
      "text/plain": [
       "Channel{Int64}(0) (empty)"
      ]
     },
     "execution_count": 13,
     "metadata": {},
     "output_type": "execute_result"
    }
   ],
   "source": [
    "chnl = Channel{Int}()"
   ]
  },
  {
   "cell_type": "code",
   "execution_count": null,
   "id": "8e8428ce",
   "metadata": {},
   "outputs": [],
   "source": [
    "@time begin\n",
    "    put!(chnl,3)\n",
    "    i = take!(chnl)\n",
    "    sleep(i)\n",
    "end"
   ]
  },
  {
   "cell_type": "markdown",
   "id": "a5d3730b",
   "metadata": {},
   "source": [
    "# License\n",
    "\n",
    "This notebook is part of the course [Programming Large Scale Parallel Systems](https://www.francescverdugo.com/XM_40017/) at Vrije Universiteit Amsterdam and may be used under a [CC BY 4.0](https://creativecommons.org/licenses/by/4.0/) license."
   ]
  }
 ],
 "metadata": {
  "kernelspec": {
   "display_name": "Julia 1.9.3",
   "language": "julia",
   "name": "julia-1.9"
  },
  "language_info": {
   "file_extension": ".jl",
   "mimetype": "application/julia",
   "name": "julia",
   "version": "1.9.3"
  }
 },
 "nbformat": 4,
 "nbformat_minor": 5
}
